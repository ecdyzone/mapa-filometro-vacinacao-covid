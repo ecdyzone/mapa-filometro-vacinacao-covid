{
 "cells": [
  {
   "cell_type": "markdown",
   "id": "389c0002-f722-4d77-aa74-4acc2dc1d07a",
   "metadata": {},
   "source": [
    "# Filometro em mapa\n",
    "\n",
    "Algumas cidades como São Paulo, Salvador e São Luís criaram um \"filometro\" para mostrar como andam as filas nos diversos postos de vacinação para covid.\n",
    "\n",
    "https://deolhonafila.prefeitura.sp.gov.br/  \n",
    "https://filometro.saude.salvador.ba.gov.br/  \n",
    "http://semit.saoluis.ma.gov.br/filometro/  \n",
    "\n",
    "Seria interessante colocar estas informações num mapa, para cada pessoa verificar quais são as opções mais perto dela para se vacinar evitando aglomerações.\n",
    "\n",
    "Inspiração:\n",
    "\n",
    "https://youtu.be/W0L2DW-6HXs?t=105"
   ]
  },
  {
   "cell_type": "markdown",
   "id": "376ac56f-5f18-4e43-85a1-83a90a7c8a88",
   "metadata": {},
   "source": [
    "# Instalações e Importações"
   ]
  },
  {
   "cell_type": "code",
   "execution_count": null,
   "id": "c8901782-e60a-43fc-961d-86c5b49a9f98",
   "metadata": {},
   "outputs": [],
   "source": [
    "!pip install selenium\n",
    "!apt-get update \n",
    "!apt install chromium-chromedriver"
   ]
  },
  {
   "cell_type": "code",
   "execution_count": 1,
   "id": "d469a969-d6a6-4cad-9503-7718805f3b01",
   "metadata": {},
   "outputs": [],
   "source": [
    "from selenium import webdriver\n",
    "import time\n",
    "import pandas as pd\n",
    "from datetime import datetime"
   ]
  },
  {
   "cell_type": "markdown",
   "id": "8ca7e7fb-2be2-44e7-a39e-b170fb7cf480",
   "metadata": {},
   "source": [
    "# Scraping"
   ]
  },
  {
   "cell_type": "code",
   "execution_count": 2,
   "id": "b24f35e1-67cc-456f-a90c-a8f1ad04c609",
   "metadata": {
    "tags": []
   },
   "outputs": [],
   "source": [
    "#launch url\n",
    "url = \"https://deolhonafila.prefeitura.sp.gov.br/\"\n",
    "\n",
    "def get_info_sp(url, save_to_csv=True):\n",
    "    \n",
    "    #### SCRAPING ####\n",
    "    \n",
    "    # Initialize browser driver\n",
    "    \n",
    "    chrome_options = webdriver.ChromeOptions()\n",
    "    chrome_options.add_argument('--headless')\n",
    "    chrome_options.add_argument('--no-sandbox')\n",
    "    chrome_options.add_argument('--disable-dev-shm-usage')\n",
    "    driver = webdriver.Chrome('chromedriver', options=chrome_options)\n",
    "    \n",
    "    # opening URL\n",
    "    driver.get(url)\n",
    "    time.sleep(5)\n",
    "    \n",
    "    # list of lists with 5 elements each\n",
    "    vaccination_places_list = []\n",
    "    \n",
    "    all_locations = driver.find_elements_by_css_selector(\".msg\")\n",
    "\n",
    "    for vaccination_place in all_locations:\n",
    "\n",
    "        name = vaccination_place.find_element_by_xpath('.//h6[1]').get_attribute('innerText')\n",
    "        modality = vaccination_place.find_element_by_xpath('.//h6[2]').get_attribute('innerText')\n",
    "        adress = vaccination_place.find_element_by_xpath('.//h11[1]').get_attribute('innerText')\n",
    "        queue_situation = vaccination_place.find_element_by_xpath('.//h11[2]').get_attribute('innerText')\n",
    "        last_update = vaccination_place.find_element_by_xpath('.//h11[3]').get_attribute('innerText')\n",
    "\n",
    "        vaccination_place_info = [name, modality, adress, queue_situation, last_update]\n",
    "\n",
    "        vaccination_places_list.append(vaccination_place_info)\n",
    "\n",
    "    # close browser\n",
    "    driver.quit()\n",
    "    \n",
    "    \n",
    "    #### TRANSFORMING LIST INTO PANDAS DATAFRAME ####\n",
    "\n",
    "    vaccination_places_df = pd.DataFrame(vaccination_places_list)\n",
    "    vaccination_places_df.columns = ['nome', 'modalidade', 'endereco', 'situacao_fila', 'ultima_atualizacao']\n",
    "    \n",
    "    # data cleaning and formatting\n",
    "    for column in ('modalidade', 'situacao_fila', 'ultima_atualizacao'):\n",
    "        vaccination_places_df[column] = [item.split(\": \")[1] for item in vaccination_places_df[column]]\n",
    "    \n",
    "    vaccination_places_df['ultima_atualizacao'] = pd.to_datetime(vaccination_places_df['ultima_atualizacao'])\n",
    "    \n",
    "    # saving to csv\n",
    "    if save_to_csv:\n",
    "        city = 'sp_'\n",
    "        timestamp = datetime.now().strftime('%Y-%m-%d_%H:%M:%S')\n",
    "        path = city +'vac_' + timestamp + '.csv'\n",
    "        vaccination_places_df.to_csv(path, sep=\";\")\n",
    "    \n",
    "    return vaccination_places_df\n",
    "    \n",
    "    \n",
    "df = get_info_sp(url)\n",
    "# vaccination_places_df.index.size # == 516"
   ]
  },
  {
   "cell_type": "markdown",
   "id": "b2519459-dde3-46e7-b719-43265c828fdb",
   "metadata": {},
   "source": [
    "# Conhecendo os Dados"
   ]
  },
  {
   "cell_type": "code",
   "execution_count": 3,
   "id": "c34c08ab-4303-4506-a8d2-f93801b19498",
   "metadata": {},
   "outputs": [
    {
     "data": {
      "text/plain": [
       "(520, 5)"
      ]
     },
     "execution_count": 3,
     "metadata": {},
     "output_type": "execute_result"
    }
   ],
   "source": [
    "df.shape"
   ]
  },
  {
   "cell_type": "markdown",
   "id": "95d202b8-cf1f-4856-ba2a-7bf26ba83b51",
   "metadata": {},
   "source": [
    "Temos 520 Postos de Vacinação neste arquivo, mas no dia 18/junho esse número era de 516."
   ]
  },
  {
   "cell_type": "code",
   "execution_count": 5,
   "id": "772b6013-ed93-4643-ab10-d7ae59b3c946",
   "metadata": {},
   "outputs": [
    {
     "data": {
      "text/html": [
       "<div>\n",
       "<style scoped>\n",
       "    .dataframe tbody tr th:only-of-type {\n",
       "        vertical-align: middle;\n",
       "    }\n",
       "\n",
       "    .dataframe tbody tr th {\n",
       "        vertical-align: top;\n",
       "    }\n",
       "\n",
       "    .dataframe thead th {\n",
       "        text-align: right;\n",
       "    }\n",
       "</style>\n",
       "<table border=\"1\" class=\"dataframe\">\n",
       "  <thead>\n",
       "    <tr style=\"text-align: right;\">\n",
       "      <th></th>\n",
       "      <th>nome</th>\n",
       "      <th>modalidade</th>\n",
       "      <th>endereco</th>\n",
       "      <th>situacao_fila</th>\n",
       "      <th>ultima_atualizacao</th>\n",
       "    </tr>\n",
       "  </thead>\n",
       "  <tbody>\n",
       "    <tr>\n",
       "      <th>0</th>\n",
       "      <td>AMA/UBS INTEGRADA JARDIM PAULISTANO / IGREJA B...</td>\n",
       "      <td>POSTO VOLANTE</td>\n",
       "      <td>IGREJA: R. APARECIDA DO TABOADO,505 - JD PAULI...</td>\n",
       "      <td>SEM FILA</td>\n",
       "      <td>2021-06-24 19:01:00</td>\n",
       "    </tr>\n",
       "    <tr>\n",
       "      <th>1</th>\n",
       "      <td>UBS VILA TEREZINHA / CRECHE BATUIRA</td>\n",
       "      <td>POSTO VOLANTE</td>\n",
       "      <td>CRECHE BATUIRA: R. Jorge Píres Ramalho, 70 - V...</td>\n",
       "      <td>NÃO FUNCIONANDO</td>\n",
       "      <td>2021-06-24 19:00:00</td>\n",
       "    </tr>\n",
       "    <tr>\n",
       "      <th>2</th>\n",
       "      <td>UBS CASA VERDE / PARÓQUIA NOSSA SENHORA DAS DORES</td>\n",
       "      <td>POSTO VOLANTE</td>\n",
       "      <td>R. ANTONIETA, 19 - CASA VERDE BAIXA - CEP: 025...</td>\n",
       "      <td>SEM FILA</td>\n",
       "      <td>2021-06-24 19:00:00</td>\n",
       "    </tr>\n",
       "    <tr>\n",
       "      <th>3</th>\n",
       "      <td>POSTO VOLANTE CENTER NORTE</td>\n",
       "      <td>POSTO VOLANTE</td>\n",
       "      <td>Rua Otto Baumgart, 500</td>\n",
       "      <td>SEM FILA</td>\n",
       "      <td>2021-06-24 16:56:00</td>\n",
       "    </tr>\n",
       "    <tr>\n",
       "      <th>4</th>\n",
       "      <td>IGREJA DE SÃO JUDAS</td>\n",
       "      <td>POSTO VOLANTE</td>\n",
       "      <td>Alameda Guaiós,145</td>\n",
       "      <td>FILA GRANDE</td>\n",
       "      <td>2021-06-24 16:12:00</td>\n",
       "    </tr>\n",
       "  </tbody>\n",
       "</table>\n",
       "</div>"
      ],
      "text/plain": [
       "                                                nome     modalidade  \\\n",
       "0  AMA/UBS INTEGRADA JARDIM PAULISTANO / IGREJA B...  POSTO VOLANTE   \n",
       "1                UBS VILA TEREZINHA / CRECHE BATUIRA  POSTO VOLANTE   \n",
       "2  UBS CASA VERDE / PARÓQUIA NOSSA SENHORA DAS DORES  POSTO VOLANTE   \n",
       "3                        POSTO VOLANTE CENTER NORTE   POSTO VOLANTE   \n",
       "4                                IGREJA DE SÃO JUDAS  POSTO VOLANTE   \n",
       "\n",
       "                                            endereco    situacao_fila  \\\n",
       "0  IGREJA: R. APARECIDA DO TABOADO,505 - JD PAULI...         SEM FILA   \n",
       "1  CRECHE BATUIRA: R. Jorge Píres Ramalho, 70 - V...  NÃO FUNCIONANDO   \n",
       "2  R. ANTONIETA, 19 - CASA VERDE BAIXA - CEP: 025...         SEM FILA   \n",
       "3                             Rua Otto Baumgart, 500         SEM FILA   \n",
       "4                                 Alameda Guaiós,145      FILA GRANDE   \n",
       "\n",
       "   ultima_atualizacao  \n",
       "0 2021-06-24 19:01:00  \n",
       "1 2021-06-24 19:00:00  \n",
       "2 2021-06-24 19:00:00  \n",
       "3 2021-06-24 16:56:00  \n",
       "4 2021-06-24 16:12:00  "
      ]
     },
     "execution_count": 5,
     "metadata": {},
     "output_type": "execute_result"
    }
   ],
   "source": [
    "df.head()"
   ]
  },
  {
   "cell_type": "markdown",
   "id": "def3c759-b89e-44e8-ac7b-94ada0b95705",
   "metadata": {},
   "source": [
    "Verificação de nulos"
   ]
  },
  {
   "cell_type": "code",
   "execution_count": 7,
   "id": "5cb925f0-8996-48ac-9617-2d40cb1abbcc",
   "metadata": {},
   "outputs": [
    {
     "data": {
      "text/plain": [
       "nome                  0\n",
       "modalidade            0\n",
       "endereco              0\n",
       "situacao_fila         0\n",
       "ultima_atualizacao    0\n",
       "dtype: int64"
      ]
     },
     "execution_count": 7,
     "metadata": {},
     "output_type": "execute_result"
    }
   ],
   "source": [
    "df.isna().sum()"
   ]
  },
  {
   "cell_type": "code",
   "execution_count": 8,
   "id": "89e5ef6b-cb48-494a-96c2-d2200bc15620",
   "metadata": {},
   "outputs": [
    {
     "data": {
      "text/html": [
       "<div>\n",
       "<style scoped>\n",
       "    .dataframe tbody tr th:only-of-type {\n",
       "        vertical-align: middle;\n",
       "    }\n",
       "\n",
       "    .dataframe tbody tr th {\n",
       "        vertical-align: top;\n",
       "    }\n",
       "\n",
       "    .dataframe thead th {\n",
       "        text-align: right;\n",
       "    }\n",
       "</style>\n",
       "<table border=\"1\" class=\"dataframe\">\n",
       "  <thead>\n",
       "    <tr style=\"text-align: right;\">\n",
       "      <th></th>\n",
       "      <th>nome</th>\n",
       "      <th>modalidade</th>\n",
       "      <th>endereco</th>\n",
       "      <th>situacao_fila</th>\n",
       "      <th>ultima_atualizacao</th>\n",
       "    </tr>\n",
       "  </thead>\n",
       "  <tbody>\n",
       "  </tbody>\n",
       "</table>\n",
       "</div>"
      ],
      "text/plain": [
       "Empty DataFrame\n",
       "Columns: [nome, modalidade, endereco, situacao_fila, ultima_atualizacao]\n",
       "Index: []"
      ]
     },
     "execution_count": 8,
     "metadata": {},
     "output_type": "execute_result"
    }
   ],
   "source": [
    "df[df['ultima_atualizacao'].isnull()]"
   ]
  },
  {
   "cell_type": "code",
   "execution_count": 9,
   "id": "afbfcaa4-448d-479d-9564-1140dc8ad8cc",
   "metadata": {},
   "outputs": [
    {
     "data": {
      "text/html": [
       "<div>\n",
       "<style scoped>\n",
       "    .dataframe tbody tr th:only-of-type {\n",
       "        vertical-align: middle;\n",
       "    }\n",
       "\n",
       "    .dataframe tbody tr th {\n",
       "        vertical-align: top;\n",
       "    }\n",
       "\n",
       "    .dataframe thead th {\n",
       "        text-align: right;\n",
       "    }\n",
       "</style>\n",
       "<table border=\"1\" class=\"dataframe\">\n",
       "  <thead>\n",
       "    <tr style=\"text-align: right;\">\n",
       "      <th></th>\n",
       "      <th>nome</th>\n",
       "      <th>modalidade</th>\n",
       "      <th>endereco</th>\n",
       "      <th>situacao_fila</th>\n",
       "      <th>ultima_atualizacao</th>\n",
       "    </tr>\n",
       "  </thead>\n",
       "  <tbody>\n",
       "  </tbody>\n",
       "</table>\n",
       "</div>"
      ],
      "text/plain": [
       "Empty DataFrame\n",
       "Columns: [nome, modalidade, endereco, situacao_fila, ultima_atualizacao]\n",
       "Index: []"
      ]
     },
     "execution_count": 9,
     "metadata": {},
     "output_type": "execute_result"
    }
   ],
   "source": [
    "df[df.situacao_fila == '']"
   ]
  },
  {
   "cell_type": "code",
   "execution_count": 10,
   "id": "a3a88182-a415-405f-be96-d1acd705a359",
   "metadata": {},
   "outputs": [
    {
     "data": {
      "text/plain": [
       "array(['SEM FILA', 'NÃO FUNCIONANDO', 'FILA GRANDE',\n",
       "       'AGUARDANDO ABASTECIMENTO', 'FILA PEQUENA', 'FILA MÉDIA'],\n",
       "      dtype=object)"
      ]
     },
     "execution_count": 10,
     "metadata": {},
     "output_type": "execute_result"
    }
   ],
   "source": [
    "df.situacao_fila.unique()"
   ]
  },
  {
   "cell_type": "markdown",
   "id": "daec57a7-dd08-49e6-afd6-ebfc84baa4ca",
   "metadata": {},
   "source": [
    "<div class=\"alert alert-success\"> Temos 6 situações de fila.</div>"
   ]
  },
  {
   "cell_type": "code",
   "execution_count": 11,
   "id": "ed8069d3-8840-41a9-b8a5-1e938694b99f",
   "metadata": {},
   "outputs": [
    {
     "data": {
      "text/plain": [
       "array(['POSTO VOLANTE', 'DRIVE-THRU', 'MEGAPOSTO', 'POSTO FIXO'],\n",
       "      dtype=object)"
      ]
     },
     "execution_count": 11,
     "metadata": {},
     "output_type": "execute_result"
    }
   ],
   "source": [
    "df.modalidade.unique()"
   ]
  },
  {
   "cell_type": "markdown",
   "id": "bbe81837-b2c1-4d62-b03a-852e49208cfd",
   "metadata": {},
   "source": [
    "<div class=\"alert alert-success\">Temos 4 tipos de postos de vacinação</div>"
   ]
  },
  {
   "cell_type": "code",
   "execution_count": 12,
   "id": "2cbb71b9-d665-4f2c-ba06-3ba913308392",
   "metadata": {},
   "outputs": [
    {
     "data": {
      "text/plain": [
       "Timedelta('0 days 04:56:00')"
      ]
     },
     "execution_count": 12,
     "metadata": {},
     "output_type": "execute_result"
    }
   ],
   "source": [
    "df.ultima_atualizacao.max() - df.ultima_atualizacao.min()"
   ]
  },
  {
   "cell_type": "markdown",
   "id": "b943cb73-acdf-407a-9c2d-e48d1782e453",
   "metadata": {},
   "source": [
    "<div class=\"alert alert-success\">Sobre a variação de tempo, parece ser a cada x horas, com alguns atrasos recorrentes.</div>"
   ]
  },
  {
   "cell_type": "code",
   "execution_count": 45,
   "id": "7af1d5a2-b4d4-49e3-b572-c11205b7fc1f",
   "metadata": {},
   "outputs": [
    {
     "data": {
      "text/plain": [
       "array([datetime.time(15, 0), datetime.time(16, 0), datetime.time(17, 0),\n",
       "       datetime.time(18, 0), datetime.time(19, 0)], dtype=object)"
      ]
     },
     "execution_count": 45,
     "metadata": {},
     "output_type": "execute_result"
    }
   ],
   "source": [
    "pd.date_range('15:00', '19:00', freq= '1h').time"
   ]
  },
  {
   "cell_type": "code",
   "execution_count": 60,
   "id": "cba220ba-27dd-4b17-ab92-19d533d00c3b",
   "metadata": {},
   "outputs": [
    {
     "name": "stderr",
     "output_type": "stream",
     "text": [
      "<ipython-input-60-03b79631b1ad>:1: UserWarning: FixedFormatter should only be used together with FixedLocator\n",
      "  df.ultima_atualizacao\\\n"
     ]
    },
    {
     "data": {
      "text/plain": [
       "[Text(0.5, 1.0, 'Histograma por Horário de Atualização'),\n",
       " [Text(18802.625, 0, '15:00:00'),\n",
       "  Text(18802.666666666668, 0, '16:00:00'),\n",
       "  Text(18802.708333333332, 0, '17:00:00'),\n",
       "  Text(18802.75, 0, '18:00:00'),\n",
       "  Text(18802.791666666668, 0, '19:00:00')]]"
      ]
     },
     "execution_count": 60,
     "metadata": {},
     "output_type": "execute_result"
    },
    {
     "data": {
      "image/png": "[encoded data removed]",
      "text/plain": [
       "<Figure size 432x288 with 1 Axes>"
      ]
     },
     "metadata": {
      "needs_background": "light"
     },
     "output_type": "display_data"
    }
   ],
   "source": [
    "df.ultima_atualizacao\\\n",
    "    .sort_values()\\\n",
    "    .hist()\\\n",
    "    .set(title = 'Histograma por Horário de Atualização',\n",
    "         xticklabels = pd.date_range('15:00', '19:00', freq= '1h').time)"
   ]
  },
  {
   "cell_type": "markdown",
   "id": "e5b657a0-beee-4cee-9c15-77fa25526b51",
   "metadata": {},
   "source": [
    "# Próxima Parte"
   ]
  },
  {
   "cell_type": "markdown",
   "id": "80caefe0-9165-411c-bd2e-fa4e445606fe",
   "metadata": {},
   "source": [
    "Plotar isso num mapa"
   ]
  }
 ],
 "metadata": {
  "kernelspec": {
   "display_name": "Python 3",
   "language": "python",
   "name": "python3"
  },
  "language_info": {
   "codemirror_mode": {
    "name": "ipython",
    "version": 3
   },
   "file_extension": ".py",
   "mimetype": "text/x-python",
   "name": "python",
   "nbconvert_exporter": "python",
   "pygments_lexer": "ipython3",
   "version": "3.8.5"
  }
 },
 "nbformat": 4,
 "nbformat_minor": 5
}
