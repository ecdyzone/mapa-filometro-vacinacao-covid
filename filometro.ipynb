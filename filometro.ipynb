{
 "cells": [
  {
   "cell_type": "markdown",
   "id": "389c0002-f722-4d77-aa74-4acc2dc1d07a",
   "metadata": {},
   "source": [
    "# Filometro em mapa\n",
    "\n",
    "Algumas cidades como São Paulo, Salvador e São Luís criaram um \"filometro\" para mostrar como andam as filas nos diversos postos de vacinação para covid.\n",
    "\n",
    "https://deolhonafila.prefeitura.sp.gov.br/  \n",
    "https://filometro.saude.salvador.ba.gov.br/  \n",
    "http://semit.saoluis.ma.gov.br/filometro/  \n",
    "\n",
    "Seria interessante colocar estas informações num mapa, para cada pessoa verificar quais são as opções mais perto dela para se vacinar evitando aglomerações.\n",
    "\n",
    "Inspiração:\n",
    "\n",
    "https://www.alphr.com/make-custom-route-google-maps/  \n",
    "https://www.youtube.com/watch?v=W0L2DW-6HXs  "
   ]
  },
  {
   "cell_type": "markdown",
   "id": "ee9094d9-165f-4971-8515-a713123b5261",
   "metadata": {},
   "source": [
    "## Scraping"
   ]
  },
  {
   "cell_type": "markdown",
   "id": "25d19a3c-260e-438e-b7e0-d5ebd0c8d565",
   "metadata": {},
   "source": [
    "- scraping -> pandas (selenium)"
   ]
  },
  {
   "cell_type": "markdown",
   "id": "e6ac7da5-da11-43ff-973b-63867c02d64c",
   "metadata": {},
   "source": [
    "1. scraping -> pandas df\n",
    "6. fazer uma prévia no thexs mapping\n",
    "2. endereços -> get geolocation (precisa ou o google faz sozinho?)\n",
    "3. insert geolocation in google maps, my maps?\n",
    "4. colocar os pointers coloridos de acordo com a situação\n",
    "5. modalidade entra como um filtro lateral de clique, como no the-xs mapping\n",
    "\n",
    "\n",
    "3. talvez get sp geodata com geobr? Talvez nem precise\n",
    "4. mapa - ver labcidade, ver api google maps... algo interativo. D3.js ??\n",
    "5. mapa update situação de 1 em 1 hora"
   ]
  },
  {
   "cell_type": "markdown",
   "id": "4d5346f0-af72-4c28-b24e-724cd1803867",
   "metadata": {},
   "source": [
    "a ideia é ser reprodutível para outros estados"
   ]
  },
  {
   "cell_type": "markdown",
   "id": "376ac56f-5f18-4e43-85a1-83a90a7c8a88",
   "metadata": {},
   "source": [
    "# Instalações e Importações"
   ]
  },
  {
   "cell_type": "code",
   "execution_count": null,
   "id": "c8901782-e60a-43fc-961d-86c5b49a9f98",
   "metadata": {},
   "outputs": [],
   "source": [
    "!pip install selenium\n",
    "!apt-get update \n",
    "!apt install chromium-chromedriver"
   ]
  },
  {
   "cell_type": "code",
   "execution_count": 1,
   "id": "d469a969-d6a6-4cad-9503-7718805f3b01",
   "metadata": {},
   "outputs": [],
   "source": [
    "from selenium import webdriver\n",
    "import time\n",
    "import pandas as pd\n",
    "from datetime import datetime"
   ]
  },
  {
   "cell_type": "markdown",
   "id": "8ca7e7fb-2be2-44e7-a39e-b170fb7cf480",
   "metadata": {},
   "source": [
    "# Scraping"
   ]
  },
  {
   "cell_type": "code",
   "execution_count": 93,
   "id": "b24f35e1-67cc-456f-a90c-a8f1ad04c609",
   "metadata": {
    "tags": []
   },
   "outputs": [],
   "source": [
    "#launch url\n",
    "url = \"https://deolhonafila.prefeitura.sp.gov.br/\"\n",
    "\n",
    "def get_info_sp(url, save_to_csv=True):\n",
    "    \n",
    "    #### SCRAPING ####\n",
    "    \n",
    "    # Initialize browser driver\n",
    "    \n",
    "    chrome_options = webdriver.ChromeOptions()\n",
    "    chrome_options.add_argument('--headless')\n",
    "    chrome_options.add_argument('--no-sandbox')\n",
    "    chrome_options.add_argument('--disable-dev-shm-usage')\n",
    "    driver = webdriver.Chrome('chromedriver', options=chrome_options)\n",
    "    \n",
    "    # opening URL\n",
    "    driver.get(url)\n",
    "    time.sleep(5)\n",
    "    \n",
    "    # list of lists with 5 elements each\n",
    "    vaccination_places_list = []\n",
    "    \n",
    "    all_locations = driver.find_elements_by_css_selector(\".msg\")\n",
    "\n",
    "    for vaccination_place in all_locations:\n",
    "\n",
    "        name = vaccination_place.find_element_by_xpath('.//h6[1]').get_attribute('innerText')\n",
    "        modality = vaccination_place.find_element_by_xpath('.//h6[2]').get_attribute('innerText')\n",
    "        adress = vaccination_place.find_element_by_xpath('.//h11[1]').get_attribute('innerText')\n",
    "        queue_situation = vaccination_place.find_element_by_xpath('.//h11[2]').get_attribute('innerText')\n",
    "        last_update = vaccination_place.find_element_by_xpath('.//h11[3]').get_attribute('innerText')\n",
    "\n",
    "        vaccination_place_info = [name, modality, adress, queue_situation, last_update]\n",
    "\n",
    "        vaccination_places_list.append(vaccination_place_info)\n",
    "\n",
    "    # close browser\n",
    "    driver.quit()\n",
    "    \n",
    "    \n",
    "    #### TRANSFORMING LIST INTO PANDAS DATAFRAME ####\n",
    "\n",
    "    vaccination_places_df = pd.DataFrame(vaccination_places_list)\n",
    "    vaccination_places_df.columns = ['nome', 'modalidade', 'endereco', 'situacao_fila', 'ultima_atualizacao']\n",
    "    \n",
    "    # data cleaning and formatting\n",
    "    for column in ('modalidade', 'situacao_fila', 'ultima_atualizacao'):\n",
    "        vaccination_places_df[column] = [item.split(\": \")[1] for item in vaccination_places_df[column]]\n",
    "    \n",
    "    vaccination_places_df['ultima_atualizacao'] = pd.to_datetime(vaccination_places_df['ultima_atualizacao'])\n",
    "    \n",
    "    # saving to csv\n",
    "    if save_to_csv:\n",
    "        city = 'sp_'\n",
    "        timestamp = datetime.now().strftime('%Y-%m-%d_%H:%M:%S')\n",
    "        path = city +'vac_' + timestamp + '.csv'\n",
    "        vaccination_places_df.to_csv(path, sep=\";\")\n",
    "    \n",
    "    return vaccination_places_df\n",
    "    \n",
    "    \n",
    "df = get_info_sp(url)\n",
    "# vaccination_places_df.index.size # == 516"
   ]
  },
  {
   "cell_type": "code",
   "execution_count": 94,
   "id": "c34c08ab-4303-4506-a8d2-f93801b19498",
   "metadata": {},
   "outputs": [
    {
     "data": {
      "text/plain": [
       "(516, 5)"
      ]
     },
     "execution_count": 94,
     "metadata": {},
     "output_type": "execute_result"
    }
   ],
   "source": [
    "df.shape"
   ]
  },
  {
   "cell_type": "markdown",
   "id": "95d202b8-cf1f-4856-ba2a-7bf26ba83b51",
   "metadata": {},
   "source": [
    "Temos 516 Postos de Vacinação"
   ]
  },
  {
   "cell_type": "code",
   "execution_count": 95,
   "id": "772b6013-ed93-4643-ab10-d7ae59b3c946",
   "metadata": {},
   "outputs": [
    {
     "data": {
      "text/html": [
       "<div>\n",
       "<style scoped>\n",
       "    .dataframe tbody tr th:only-of-type {\n",
       "        vertical-align: middle;\n",
       "    }\n",
       "\n",
       "    .dataframe tbody tr th {\n",
       "        vertical-align: top;\n",
       "    }\n",
       "\n",
       "    .dataframe thead th {\n",
       "        text-align: right;\n",
       "    }\n",
       "</style>\n",
       "<table border=\"1\" class=\"dataframe\">\n",
       "  <thead>\n",
       "    <tr style=\"text-align: right;\">\n",
       "      <th></th>\n",
       "      <th>nome</th>\n",
       "      <th>modalidade</th>\n",
       "      <th>endereco</th>\n",
       "      <th>situacao_fila</th>\n",
       "      <th>ultima_atualizacao</th>\n",
       "    </tr>\n",
       "  </thead>\n",
       "  <tbody>\n",
       "    <tr>\n",
       "      <th>0</th>\n",
       "      <td>UBS VILA TEREZINHA / CRECHE BATUIRA</td>\n",
       "      <td>POSTO VOLANTE</td>\n",
       "      <td>R. Jorge Píres Ramalho, 70 - Vila Isabel, São ...</td>\n",
       "      <td>SEM FILA</td>\n",
       "      <td>2021-06-18 15:18:00</td>\n",
       "    </tr>\n",
       "    <tr>\n",
       "      <th>1</th>\n",
       "      <td>UBS CASA VERDE / PARÓQUIA NOSSA SENHORA DAS DORES</td>\n",
       "      <td>POSTO VOLANTE</td>\n",
       "      <td>R. ANTONIETA, 19 - CASA VERDE BAIXA - CEP: 025...</td>\n",
       "      <td>SEM FILA</td>\n",
       "      <td>2021-06-18 15:02:00</td>\n",
       "    </tr>\n",
       "    <tr>\n",
       "      <th>2</th>\n",
       "      <td>POSTO VOLANTE CENTER NORTE</td>\n",
       "      <td>POSTO VOLANTE</td>\n",
       "      <td>Rua Otto Baumgart, 500</td>\n",
       "      <td>SEM FILA</td>\n",
       "      <td>2021-06-18 14:55:00</td>\n",
       "    </tr>\n",
       "    <tr>\n",
       "      <th>3</th>\n",
       "      <td>IGREJA DE SÃO JUDAS</td>\n",
       "      <td>POSTO VOLANTE</td>\n",
       "      <td>Alameda Guaiós,145</td>\n",
       "      <td>FILA GRANDE</td>\n",
       "      <td>2021-06-18 15:50:00</td>\n",
       "    </tr>\n",
       "    <tr>\n",
       "      <th>4</th>\n",
       "      <td>SHOPPING METRÔ SANTA CRUZ</td>\n",
       "      <td>POSTO VOLANTE</td>\n",
       "      <td>Rua Domingos de Morais (acesso pela Externa)</td>\n",
       "      <td>FILA MÉDIA</td>\n",
       "      <td>2021-06-18 16:05:00</td>\n",
       "    </tr>\n",
       "  </tbody>\n",
       "</table>\n",
       "</div>"
      ],
      "text/plain": [
       "                                                nome     modalidade  \\\n",
       "0                UBS VILA TEREZINHA / CRECHE BATUIRA  POSTO VOLANTE   \n",
       "1  UBS CASA VERDE / PARÓQUIA NOSSA SENHORA DAS DORES  POSTO VOLANTE   \n",
       "2                        POSTO VOLANTE CENTER NORTE   POSTO VOLANTE   \n",
       "3                                IGREJA DE SÃO JUDAS  POSTO VOLANTE   \n",
       "4                          SHOPPING METRÔ SANTA CRUZ  POSTO VOLANTE   \n",
       "\n",
       "                                            endereco situacao_fila  \\\n",
       "0  R. Jorge Píres Ramalho, 70 - Vila Isabel, São ...      SEM FILA   \n",
       "1  R. ANTONIETA, 19 - CASA VERDE BAIXA - CEP: 025...      SEM FILA   \n",
       "2                             Rua Otto Baumgart, 500      SEM FILA   \n",
       "3                                 Alameda Guaiós,145   FILA GRANDE   \n",
       "4       Rua Domingos de Morais (acesso pela Externa)    FILA MÉDIA   \n",
       "\n",
       "   ultima_atualizacao  \n",
       "0 2021-06-18 15:18:00  \n",
       "1 2021-06-18 15:02:00  \n",
       "2 2021-06-18 14:55:00  \n",
       "3 2021-06-18 15:50:00  \n",
       "4 2021-06-18 16:05:00  "
      ]
     },
     "execution_count": 95,
     "metadata": {},
     "output_type": "execute_result"
    }
   ],
   "source": [
    "df.head()"
   ]
  },
  {
   "cell_type": "markdown",
   "id": "def3c759-b89e-44e8-ac7b-94ada0b95705",
   "metadata": {},
   "source": [
    "Verificação de nulos"
   ]
  },
  {
   "cell_type": "code",
   "execution_count": 96,
   "id": "5cb925f0-8996-48ac-9617-2d40cb1abbcc",
   "metadata": {},
   "outputs": [
    {
     "data": {
      "text/plain": [
       "nome                  0\n",
       "modalidade            0\n",
       "endereco              0\n",
       "situacao_fila         0\n",
       "ultima_atualizacao    1\n",
       "dtype: int64"
      ]
     },
     "execution_count": 96,
     "metadata": {},
     "output_type": "execute_result"
    }
   ],
   "source": [
    "vaccination_places_df.isna().sum()"
   ]
  },
  {
   "cell_type": "code",
   "execution_count": 97,
   "id": "89e5ef6b-cb48-494a-96c2-d2200bc15620",
   "metadata": {},
   "outputs": [
    {
     "data": {
      "text/html": [
       "<div>\n",
       "<style scoped>\n",
       "    .dataframe tbody tr th:only-of-type {\n",
       "        vertical-align: middle;\n",
       "    }\n",
       "\n",
       "    .dataframe tbody tr th {\n",
       "        vertical-align: top;\n",
       "    }\n",
       "\n",
       "    .dataframe thead th {\n",
       "        text-align: right;\n",
       "    }\n",
       "</style>\n",
       "<table border=\"1\" class=\"dataframe\">\n",
       "  <thead>\n",
       "    <tr style=\"text-align: right;\">\n",
       "      <th></th>\n",
       "      <th>nome</th>\n",
       "      <th>modalidade</th>\n",
       "      <th>endereco</th>\n",
       "      <th>situacao_fila</th>\n",
       "      <th>ultima_atualizacao</th>\n",
       "    </tr>\n",
       "  </thead>\n",
       "  <tbody>\n",
       "    <tr>\n",
       "      <th>36</th>\n",
       "      <td>MEGA POSTO CENTRO CULTURAL GRAJAÚ</td>\n",
       "      <td>MEGAPOSTO</td>\n",
       "      <td>RUA PROFESSOR OSCAR BARRETO FILHO, 252 - PARQU...</td>\n",
       "      <td></td>\n",
       "      <td>NaT</td>\n",
       "    </tr>\n",
       "  </tbody>\n",
       "</table>\n",
       "</div>"
      ],
      "text/plain": [
       "                                 nome modalidade  \\\n",
       "36  MEGA POSTO CENTRO CULTURAL GRAJAÚ  MEGAPOSTO   \n",
       "\n",
       "                                             endereco situacao_fila  \\\n",
       "36  RUA PROFESSOR OSCAR BARRETO FILHO, 252 - PARQU...                 \n",
       "\n",
       "   ultima_atualizacao  \n",
       "36                NaT  "
      ]
     },
     "execution_count": 97,
     "metadata": {},
     "output_type": "execute_result"
    }
   ],
   "source": [
    "df[df['ultima_atualizacao'].isnull()]"
   ]
  },
  {
   "cell_type": "code",
   "execution_count": 89,
   "id": "afbfcaa4-448d-479d-9564-1140dc8ad8cc",
   "metadata": {},
   "outputs": [
    {
     "data": {
      "text/html": [
       "<div>\n",
       "<style scoped>\n",
       "    .dataframe tbody tr th:only-of-type {\n",
       "        vertical-align: middle;\n",
       "    }\n",
       "\n",
       "    .dataframe tbody tr th {\n",
       "        vertical-align: top;\n",
       "    }\n",
       "\n",
       "    .dataframe thead th {\n",
       "        text-align: right;\n",
       "    }\n",
       "</style>\n",
       "<table border=\"1\" class=\"dataframe\">\n",
       "  <thead>\n",
       "    <tr style=\"text-align: right;\">\n",
       "      <th></th>\n",
       "      <th>nome</th>\n",
       "      <th>modalidade</th>\n",
       "      <th>endereco</th>\n",
       "      <th>situacao_fila</th>\n",
       "      <th>ultima_atualizacao</th>\n",
       "    </tr>\n",
       "  </thead>\n",
       "  <tbody>\n",
       "    <tr>\n",
       "      <th>36</th>\n",
       "      <td>MEGA POSTO CENTRO CULTURAL GRAJAÚ</td>\n",
       "      <td>MEGAPOSTO</td>\n",
       "      <td>RUA PROFESSOR OSCAR BARRETO FILHO, 252 - PARQU...</td>\n",
       "      <td></td>\n",
       "      <td>NaT</td>\n",
       "    </tr>\n",
       "  </tbody>\n",
       "</table>\n",
       "</div>"
      ],
      "text/plain": [
       "                                 nome modalidade  \\\n",
       "36  MEGA POSTO CENTRO CULTURAL GRAJAÚ  MEGAPOSTO   \n",
       "\n",
       "                                             endereco situacao_fila  \\\n",
       "36  RUA PROFESSOR OSCAR BARRETO FILHO, 252 - PARQU...                 \n",
       "\n",
       "   ultima_atualizacao  \n",
       "36                NaT  "
      ]
     },
     "execution_count": 89,
     "metadata": {},
     "output_type": "execute_result"
    }
   ],
   "source": [
    "df[df.situacao_fila == '']"
   ]
  },
  {
   "cell_type": "markdown",
   "id": "5c689f3a-f954-4f4b-a0eb-2f507b63b465",
   "metadata": {},
   "source": [
    "<div class=\"alert alert-success\"> Temos 4 situações de fila, com um único valor nulo = '', destacado acima</div>"
   ]
  },
  {
   "cell_type": "code",
   "execution_count": 74,
   "id": "a3a88182-a415-405f-be96-d1acd705a359",
   "metadata": {},
   "outputs": [
    {
     "data": {
      "text/plain": [
       "array(['SEM FILA', 'FILA MÉDIA', 'FILA PEQUENA', 'FILA GRANDE', ''],\n",
       "      dtype=object)"
      ]
     },
     "execution_count": 74,
     "metadata": {},
     "output_type": "execute_result"
    }
   ],
   "source": [
    "df.situacao_fila.unique()"
   ]
  },
  {
   "cell_type": "markdown",
   "id": "3d41e14c-5d21-44db-88a2-1bbd7be0b92f",
   "metadata": {},
   "source": [
    "<div class=\"alert alert-success\">Também temos 4 tipos de postos de vacinação</div>"
   ]
  },
  {
   "cell_type": "code",
   "execution_count": 75,
   "id": "ed8069d3-8840-41a9-b8a5-1e938694b99f",
   "metadata": {},
   "outputs": [
    {
     "data": {
      "text/plain": [
       "array(['POSTO VOLANTE', 'DRIVE-THRU', 'MEGAPOSTO', 'POSTO FIXO'],\n",
       "      dtype=object)"
      ]
     },
     "execution_count": 75,
     "metadata": {},
     "output_type": "execute_result"
    }
   ],
   "source": [
    "df.modalidade.unique()"
   ]
  },
  {
   "cell_type": "markdown",
   "id": "d4db8d70-b493-4c39-aa53-bd2ce44201b3",
   "metadata": {},
   "source": [
    "<div class=\"alert alert-success\">Sobre a variação de tempo, parece ser a cada x horas</div>"
   ]
  },
  {
   "cell_type": "code",
   "execution_count": 98,
   "id": "2cbb71b9-d665-4f2c-ba06-3ba913308392",
   "metadata": {},
   "outputs": [
    {
     "data": {
      "text/plain": [
       "Timedelta('0 days 02:10:00')"
      ]
     },
     "execution_count": 98,
     "metadata": {},
     "output_type": "execute_result"
    }
   ],
   "source": [
    "df.ultima_atualizacao.max() - df.ultima_atualizacao.min()"
   ]
  },
  {
   "cell_type": "code",
   "execution_count": 99,
   "id": "cba220ba-27dd-4b17-ab92-19d533d00c3b",
   "metadata": {},
   "outputs": [
    {
     "data": {
      "text/plain": [
       "417   2021-06-18 14:45:00\n",
       "395   2021-06-18 14:46:00\n",
       "331   2021-06-18 14:47:00\n",
       "286   2021-06-18 14:47:00\n",
       "475   2021-06-18 14:47:00\n",
       "              ...        \n",
       "364   2021-06-18 16:55:00\n",
       "51    2021-06-18 16:55:00\n",
       "247   2021-06-18 16:55:00\n",
       "161   2021-06-18 16:55:00\n",
       "36                    NaT\n",
       "Name: ultima_atualizacao, Length: 516, dtype: datetime64[ns]"
      ]
     },
     "execution_count": 99,
     "metadata": {},
     "output_type": "execute_result"
    }
   ],
   "source": [
    "df.ultima_atualizacao.sort_values()"
   ]
  }
 ],
 "metadata": {
  "kernelspec": {
   "display_name": "Python 3",
   "language": "python",
   "name": "python3"
  },
  "language_info": {
   "codemirror_mode": {
    "name": "ipython",
    "version": 3
   },
   "file_extension": ".py",
   "mimetype": "text/x-python",
   "name": "python",
   "nbconvert_exporter": "python",
   "pygments_lexer": "ipython3",
   "version": "3.8.5"
  }
 },
 "nbformat": 4,
 "nbformat_minor": 5
}
